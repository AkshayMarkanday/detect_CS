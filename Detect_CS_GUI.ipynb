{
  "nbformat": 4,
  "nbformat_minor": 0,
  "metadata": {
    "colab": {
      "name": "Detect_CS_GUI",
      "provenance": [],
      "authorship_tag": "ABX9TyM3a7ZwPoZ03XYAOHi3A9ru",
      "include_colab_link": true
    },
    "kernelspec": {
      "name": "python3",
      "display_name": "Python 3"
    },
    "language_info": {
      "name": "python"
    }
  },
  "cells": [
    {
      "cell_type": "markdown",
      "metadata": {
        "id": "view-in-github",
        "colab_type": "text"
      },
      "source": [
        "<a href=\"https://colab.research.google.com/github/LeFalko/detect_CS/blob/master/Detect_CS_GUI.ipynb\" target=\"_parent\"><img src=\"https://colab.research.google.com/assets/colab-badge.svg\" alt=\"Open In Colab\"/></a>"
      ]
    },
    {
      "cell_type": "code",
      "metadata": {
        "colab": {
          "base_uri": "https://localhost:8080/"
        },
        "id": "gQh2E2QUsUdN",
        "outputId": "563b385e-cb4b-42c3-f333-e8b53c0339e7"
      },
      "source": [
        "from google.colab import drive\n",
        "drive.mount('/gdrive')"
      ],
      "execution_count": 1,
      "outputs": [
        {
          "output_type": "stream",
          "name": "stdout",
          "text": [
            "Mounted at /gdrive\n"
          ]
        }
      ]
    },
    {
      "cell_type": "code",
      "metadata": {
        "colab": {
          "base_uri": "https://localhost:8080/"
        },
        "id": "mpjsWSspuo64",
        "outputId": "740b2ad1-c440-4d83-9b33-fee1c74bbb40"
      },
      "source": [
        "import os\n",
        "\n",
        "#download U'n'Eye\n",
        "!git clone https://github.com/berenslab/uneye.git\n",
        "\n",
        "# remove folders and files that are not needed\n",
        "os.chdir('uneye')\n",
        "import shutil\n",
        "files = ['README.md','UnEye.ipynb','logo.jpeg','requirements_lin.txt','requirements_mac.txt','requirements_wind.txt','setup.py']\n",
        "for i,f in enumerate(files):\n",
        "    try:\n",
        "        os.remove(f)\n",
        "    except:\n",
        "        print(\"File already deleted: \", f)\n",
        "          \n",
        "folders = ['.git','analysis scripts','data']\n",
        "for i,f in enumerate(folders) :\n",
        "    try:\n",
        "        shutil.rmtree(f)\n",
        "    except:\n",
        "        print(\"Folder already deleted: \", f)\n",
        "os.makedirs('training',exist_ok = True)\n",
        "os.makedirs('work',exist_ok = True)\n",
        "os.makedirs('work/LabelYourData',exist_ok = True)\n",
        "os.makedirs('work/Output',exist_ok = True)\n",
        "os.makedirs('work/TrainYourNetwork',exist_ok = True)\n",
        "\n",
        "# add a patch to use U'n'Eye as CS detector\n",
        "!git clone https://github.com/LeFalko/detect_CS.git\n",
        "\n",
        "# to do math operations\n",
        "import numpy as np\n",
        "import scipy.io as io\n",
        "\n",
        "# to read .mat files\n",
        "!pip install mat4py\n",
        "import mat4py\n",
        "# to do read .pkl files\n",
        "import pandas as pd\n",
        "\n",
        "# to do clustering\n",
        "!pip install hdbscan\n",
        "\n",
        "import uneye\n",
        "!pip install umap-learn\n",
        "from detect_CS import *\n",
        "#to download files from the internet\n",
        "import urllib"
      ],
      "execution_count": 5,
      "outputs": [
        {
          "output_type": "stream",
          "name": "stdout",
          "text": [
            "Cloning into 'uneye'...\n",
            "remote: Enumerating objects: 990, done.\u001b[K\n",
            "remote: Total 990 (delta 0), reused 0 (delta 0), pack-reused 990\u001b[K\n",
            "Receiving objects: 100% (990/990), 169.38 MiB | 22.94 MiB/s, done.\n",
            "Resolving deltas: 100% (211/211), done.\n",
            "Checking out files: 100% (489/489), done.\n",
            "Cloning into 'detect_CS'...\n",
            "remote: Enumerating objects: 470, done.\u001b[K\n",
            "remote: Counting objects: 100% (119/119), done.\u001b[K\n",
            "remote: Compressing objects: 100% (95/95), done.\u001b[K\n",
            "remote: Total 470 (delta 66), reused 56 (delta 23), pack-reused 351\u001b[K\n",
            "Receiving objects: 100% (470/470), 2.11 MiB | 25.45 MiB/s, done.\n",
            "Resolving deltas: 100% (273/273), done.\n",
            "Requirement already satisfied: mat4py in /usr/local/lib/python3.7/dist-packages (0.5.0)\n",
            "Requirement already satisfied: hdbscan in /usr/local/lib/python3.7/dist-packages (0.8.27)\n",
            "Requirement already satisfied: numpy>=1.16 in /usr/local/lib/python3.7/dist-packages (from hdbscan) (1.19.5)\n",
            "Requirement already satisfied: scikit-learn>=0.20 in /usr/local/lib/python3.7/dist-packages (from hdbscan) (0.22.2.post1)\n",
            "Requirement already satisfied: joblib>=1.0 in /usr/local/lib/python3.7/dist-packages (from hdbscan) (1.1.0)\n",
            "Requirement already satisfied: six in /usr/local/lib/python3.7/dist-packages (from hdbscan) (1.15.0)\n",
            "Requirement already satisfied: cython>=0.27 in /usr/local/lib/python3.7/dist-packages (from hdbscan) (0.29.24)\n",
            "Requirement already satisfied: scipy>=1.0 in /usr/local/lib/python3.7/dist-packages (from hdbscan) (1.4.1)\n",
            "Requirement already satisfied: umap-learn in /usr/local/lib/python3.7/dist-packages (0.5.2)\n",
            "Requirement already satisfied: numba>=0.49 in /usr/local/lib/python3.7/dist-packages (from umap-learn) (0.51.2)\n",
            "Requirement already satisfied: numpy>=1.17 in /usr/local/lib/python3.7/dist-packages (from umap-learn) (1.19.5)\n",
            "Requirement already satisfied: scipy>=1.0 in /usr/local/lib/python3.7/dist-packages (from umap-learn) (1.4.1)\n",
            "Requirement already satisfied: scikit-learn>=0.22 in /usr/local/lib/python3.7/dist-packages (from umap-learn) (0.22.2.post1)\n",
            "Requirement already satisfied: tqdm in /usr/local/lib/python3.7/dist-packages (from umap-learn) (4.62.3)\n",
            "Requirement already satisfied: pynndescent>=0.5 in /usr/local/lib/python3.7/dist-packages (from umap-learn) (0.5.5)\n",
            "Requirement already satisfied: llvmlite<0.35,>=0.34.0.dev0 in /usr/local/lib/python3.7/dist-packages (from numba>=0.49->umap-learn) (0.34.0)\n",
            "Requirement already satisfied: setuptools in /usr/local/lib/python3.7/dist-packages (from numba>=0.49->umap-learn) (57.4.0)\n",
            "Requirement already satisfied: joblib>=0.11 in /usr/local/lib/python3.7/dist-packages (from pynndescent>=0.5->umap-learn) (1.1.0)\n"
          ]
        }
      ]
    },
    {
      "cell_type": "code",
      "metadata": {
        "colab": {
          "base_uri": "https://localhost:8080/",
          "height": 174
        },
        "id": "neGSbRv-9gFj",
        "outputId": "50283473-4e23-4511-bf0f-4995d398b67b"
      },
      "source": [
        ""
      ],
      "execution_count": 13,
      "outputs": [
        {
          "output_type": "error",
          "ename": "NameError",
          "evalue": "ignored",
          "traceback": [
            "\u001b[0;31m---------------------------------------------------------------------------\u001b[0m",
            "\u001b[0;31mNameError\u001b[0m                                 Traceback (most recent call last)",
            "\u001b[0;32m<ipython-input-13-ebd64dd76380>\u001b[0m in \u001b[0;36m<module>\u001b[0;34m()\u001b[0m\n\u001b[0;32m----> 1\u001b[0;31m \u001b[0mcreate\u001b[0m\u001b[0;34m(\u001b[0m\u001b[0;34m)\u001b[0m\u001b[0;34m\u001b[0m\u001b[0;34m\u001b[0m\u001b[0m\n\u001b[0m",
            "\u001b[0;31mNameError\u001b[0m: name 'create' is not defined"
          ]
        }
      ]
    },
    {
      "cell_type": "code",
      "metadata": {
        "id": "L_VgSK3fV3OS",
        "colab": {
          "base_uri": "https://localhost:8080/",
          "height": 361
        },
        "outputId": "bc91ca68-a618-46c5-c46b-a50c0edf5c2d"
      },
      "source": [
        "# Set all the following parameters before running the cell\n",
        "field_LFP = ['RAW']         # in .mat files where the LFP data is in the variable lfp then set: field_LFP = ['lfp']\n",
        "                            # in .mat files where the LFP data is in the structure Data.lfp then set: field_LFP = ['Data','lfp']\n",
        "                            # in .pkl file where the LFP data is in the key ['lfp'] then set: field_LFP = ['lfp']\n",
        "                            # you can use either the LFP signal or the wide-band signal\n",
        "field_high_pass = ['HIGH'] # same comment as above\n",
        "field_label = ['Labels'] # same comment as above\n",
        "\n",
        "# set the name of the weights of the network\n",
        "weights_name = 'my_weight_name' # the weights are going to be saved in the folder /training\n",
        "\n",
        "# set sample frequency of your recording\n",
        "sampfreq = 25000 # in Hz\n",
        "\n",
        "# size of the convolutional and maxpooling operations\n",
        "ks = 9 # convolution kernel size \n",
        "mp = 7 # maxpooling size\n",
        "# the number of bins (nb) taken into account by the network is given by\n",
        "# nb = mp**2+mp**2*ks+(mp*ks)-mp+2*ks-2 \n",
        "\n",
        "\n",
        "########################################################################################################################################################################################\n",
        "training_folder = '/gdrive/My Drive/uneye/work/TrainYourNetwork/'\n",
        "training_files = os.listdir(training_folder)\n",
        "\n",
        "bigLFP = []\n",
        "bigHIGH = []\n",
        "bigLabels = []\n",
        "for i,tf in enumerate(training_files):\n",
        "    LFP,High,Labels,_ = load_data(filename = training_folder+tf,field_LFP = field_LFP,field_high_pass = field_high_pass, field_label = field_label)\n",
        "    interval_inspected = create_random_intervals(sampfreq,LFP,Labels)\n",
        "    compLFP,compHIGH,compLabels = concatenate_segments(LFP,High,interval_inspected,Labels)\n",
        "    bigLFP = np.concatenate((bigLFP,compLFP))\n",
        "    bigHIGH = np.concatenate((bigHIGH,compHIGH))\n",
        "    bigLabels = np.concatenate((bigLabels,compLabels))\n",
        "val_samples = int(np.max((np.round(.1*len(bigLFP)/sampfreq),1)))\n",
        "model = uneye.DNN(max_iter = 3000, ks=ks,mp=mp, weights_name=weights_name,\n",
        "                  sampfreq = sampfreq,augmentation = False,val_samples = val_samples, doDiff = False)\n",
        "model.train(bigLFP,bigHIGH,bigLabels)"
      ],
      "execution_count": 3,
      "outputs": [
        {
          "output_type": "error",
          "ename": "TypeError",
          "evalue": "ignored",
          "traceback": [
            "\u001b[0;31m---------------------------------------------------------------------------\u001b[0m",
            "\u001b[0;31mTypeError\u001b[0m                                 Traceback (most recent call last)",
            "\u001b[0;32m<ipython-input-3-db7e21b9c94d>\u001b[0m in \u001b[0;36m<module>\u001b[0;34m()\u001b[0m\n\u001b[1;32m     37\u001b[0m model = uneye.DNN(max_iter = 3000, ks=ks,mp=mp, weights_name=weights_name,\n\u001b[1;32m     38\u001b[0m                   sampfreq = sampfreq,augmentation = False,val_samples = val_samples, doDiff = False)\n\u001b[0;32m---> 39\u001b[0;31m \u001b[0mmodel\u001b[0m\u001b[0;34m.\u001b[0m\u001b[0mtrain\u001b[0m\u001b[0;34m(\u001b[0m\u001b[0mbigLFP\u001b[0m\u001b[0;34m,\u001b[0m\u001b[0mbigHIGH\u001b[0m\u001b[0;34m,\u001b[0m\u001b[0mbigLabels\u001b[0m\u001b[0;34m)\u001b[0m\u001b[0;34m\u001b[0m\u001b[0;34m\u001b[0m\u001b[0m\n\u001b[0m",
            "\u001b[0;32m/content/uneye/uneye/classifier.py\u001b[0m in \u001b[0;36mtrain\u001b[0;34m(self, X, Y, Labels, seed)\u001b[0m\n\u001b[1;32m     92\u001b[0m \u001b[0;34m\u001b[0m\u001b[0m\n\u001b[1;32m     93\u001b[0m         \u001b[0;31m# determine number of classes\u001b[0m\u001b[0;34m\u001b[0m\u001b[0;34m\u001b[0m\u001b[0;34m\u001b[0m\u001b[0m\n\u001b[0;32m---> 94\u001b[0;31m         \u001b[0mclasses\u001b[0m \u001b[0;34m=\u001b[0m \u001b[0mlen\u001b[0m\u001b[0;34m(\u001b[0m\u001b[0mnp\u001b[0m\u001b[0;34m.\u001b[0m\u001b[0munique\u001b[0m\u001b[0;34m(\u001b[0m\u001b[0mLabels\u001b[0m\u001b[0;34m[\u001b[0m\u001b[0mnp\u001b[0m\u001b[0;34m.\u001b[0m\u001b[0misnan\u001b[0m\u001b[0;34m(\u001b[0m\u001b[0mLabels\u001b[0m\u001b[0;34m)\u001b[0m\u001b[0;34m==\u001b[0m\u001b[0;32mFalse\u001b[0m\u001b[0;34m]\u001b[0m\u001b[0;34m)\u001b[0m\u001b[0;34m)\u001b[0m\u001b[0;34m\u001b[0m\u001b[0;34m\u001b[0m\u001b[0m\n\u001b[0m\u001b[1;32m     95\u001b[0m         \u001b[0mself\u001b[0m\u001b[0;34m.\u001b[0m\u001b[0mnet\u001b[0m \u001b[0;34m=\u001b[0m \u001b[0mUNet\u001b[0m\u001b[0;34m(\u001b[0m\u001b[0mclasses\u001b[0m\u001b[0;34m,\u001b[0m\u001b[0mself\u001b[0m\u001b[0;34m.\u001b[0m\u001b[0mks\u001b[0m\u001b[0;34m,\u001b[0m\u001b[0mself\u001b[0m\u001b[0;34m.\u001b[0m\u001b[0mmp\u001b[0m\u001b[0;34m)\u001b[0m\u001b[0;34m\u001b[0m\u001b[0;34m\u001b[0m\u001b[0m\n\u001b[1;32m     96\u001b[0m \u001b[0;34m\u001b[0m\u001b[0m\n",
            "\u001b[0;31mTypeError\u001b[0m: only integer scalar arrays can be converted to a scalar index"
          ]
        }
      ]
    }
  ]
}