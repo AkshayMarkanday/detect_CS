{
  "nbformat": 4,
  "nbformat_minor": 0,
  "metadata": {
    "colab": {
      "name": "Detect_CS_GUI ",
      "provenance": [],
      "collapsed_sections": [],
      "include_colab_link": true
    },
    "kernelspec": {
      "name": "python3",
      "display_name": "Python 3"
    },
    "language_info": {
      "name": "python"
    },
    "accelerator": "GPU"
  },
  "cells": [
    {
      "cell_type": "markdown",
      "metadata": {
        "id": "view-in-github",
        "colab_type": "text"
      },
      "source": [
        "<a href=\"https://colab.research.google.com/github/LeFalko/detect_CS/blob/master/Detect_CS_GUI.ipynb\" target=\"_parent\"><img src=\"https://colab.research.google.com/assets/colab-badge.svg\" alt=\"Open In Colab\"/></a>"
      ]
    },
    {
      "cell_type": "code",
      "metadata": {
        "id": "Bs9VmuZpy9ca",
        "cellView": "form"
      },
      "source": [
        "#@title 1. Let Google access your Google Drive\n",
        "from google.colab import drive\n",
        "drive.mount('/content/drive')"
      ],
      "execution_count": null,
      "outputs": []
    },
    {
      "cell_type": "code",
      "metadata": {
        "id": "mpjsWSspuo64",
        "cellView": "form"
      },
      "source": [
        "#@title 2. Install the toolbox on your Google Drive\n",
        "import os\n",
        "\n",
        "#download U'n'Eye\n",
        "!git clone https://github.com/berenslab/uneye.git\n",
        "\n",
        "# remove folders and files that are not needed\n",
        "os.chdir('uneye')\n",
        "import shutil\n",
        "files = ['README.md','UnEye.ipynb','logo.jpeg','requirements_lin.txt','requirements_mac.txt','requirements_wind.txt','setup.py']\n",
        "for i,f in enumerate(files):\n",
        "    try:\n",
        "        os.remove(f)\n",
        "    except:\n",
        "        print(\"File already deleted: \", f)\n",
        "          \n",
        "folders = ['.git','analysis scripts','data']\n",
        "for i,f in enumerate(folders) :\n",
        "    try:\n",
        "        shutil.rmtree(f)\n",
        "    except:\n",
        "        print(\"Folder already deleted: \", f)\n",
        "os.makedirs('training',exist_ok = True)\n",
        "os.makedirs('work',exist_ok = True)\n",
        "os.makedirs('work/LabelYourData',exist_ok = True)\n",
        "os.makedirs('work/Output',exist_ok = True)\n",
        "os.makedirs('work/TrainYourNetwork',exist_ok = True)\n",
        "\n",
        "# add a patch to use U'n'Eye as CS detector\n",
        "!git clone https://github.com/LeFalko/detect_CS.git\n",
        "\n",
        "# to do math operations\n",
        "import numpy as np\n",
        "import scipy.io as io\n",
        "\n",
        "# to read .mat files\n",
        "!pip install mat4py\n",
        "!pip install mat73\n",
        "import mat4py\n",
        "# to do read .pkl files\n",
        "import pandas as pd\n",
        "\n",
        "# to do clustering\n",
        "!pip install hdbscan\n",
        "\n",
        "import uneye\n",
        "!pip install umap-learn\n",
        "from detect_CS import *\n",
        "#to download files from the internet\n",
        "import urllib\n",
        "\n",
        "# upload/download files\n",
        "from google.colab import files\n"
      ],
      "execution_count": null,
      "outputs": []
    },
    {
      "cell_type": "code",
      "source": [
        "#@title 3. Upload your training data\n",
        "print('Upload your file here')\n",
        "uploaded = files.upload()\n",
        "filename = next(iter(uploaded))\n",
        "print('your file \\'' + filename + '\\' was uploaded')"
      ],
      "metadata": {
        "id": "wZ0-3PDAz5qr",
        "cellView": "form"
      },
      "execution_count": null,
      "outputs": []
    },
    {
      "cell_type": "code",
      "source": [
        "#@title 4. specify name of weights you want to save\n",
        "# the weights will be saved in the folder 'training'\n",
        "weights_name = 'my_weights' #@param {type:\"string\"}\n"
      ],
      "metadata": {
        "cellView": "form",
        "id": "2NF6qNwsbSF0"
      },
      "execution_count": null,
      "outputs": []
    },
    {
      "cell_type": "code",
      "source": [
        "#@title Advanced setting \n",
        "#@markdown You don't need to change this, just run this cell.\n",
        "\n",
        "#@markdown ##### kernel size (default=9), needs to be odd\n",
        "kernel_size = 9 #@param {type:\"slider\", min:1, max:15, step:2}\n",
        "#@markdown ##### max pooling (default=7), needs to be odd\n",
        "max_pooling = 7 #@param {type:\"slider\", min:1, max:15, step:2}\n",
        "#@markdown ##### If you have a small training set you should consider reducing this number (default=10). Otherwise the training will show an error\n",
        "val_samples = 10 #@param {type:\"slider\", min:1, max:20, step:1}"
      ],
      "metadata": {
        "cellView": "form",
        "id": "kRXnChGumXlj"
      },
      "execution_count": null,
      "outputs": []
    },
    {
      "cell_type": "code",
      "source": [
        "#@title 5. Train your network\n",
        "DATA = io.loadmat(filename)\n",
        "\n",
        "ID = DATA['ID']\n",
        "bigTraining_LFP = DATA['LFP'].squeeze()\n",
        "bigTraining_HIGH = DATA['HIGH'].squeeze()\n",
        "bigTraining_LABEL = DATA['Labels'].squeeze()\n",
        "\n",
        "def squizz(data):\n",
        "    data = [x.squeeze() for x in data]\n",
        "    return(data)\n",
        "bigTraining_LFP = squizz(bigTraining_LFP)\n",
        "bigTraining_HIGH = squizz(bigTraining_HIGH)\n",
        "bigTraining_LABEL = squizz(bigTraining_LABEL)\n",
        "DATA = None\n",
        "\n",
        "sampfreq = 25000 # Sampling frequency of your signal in Hz\n",
        "\n",
        "length = int(sampfreq*1) # we will use only 1 s of data from each cell\n",
        "trainingLFP = []\n",
        "trainingHIGH = []\n",
        "trainingLabel = []\n",
        "for ii,txt in enumerate(ID):\n",
        "  trainingLFP.append(bigTraining_LFP[ii][:length])\n",
        "  trainingHIGH.append(bigTraining_HIGH[ii][:length])\n",
        "  trainingLabel.append(bigTraining_LABEL[ii][:length])\n",
        "\n",
        "trainingLFP = np.concatenate(trainingLFP)  \n",
        "trainingHIGH = np.concatenate(trainingHIGH)  \n",
        "trainingLabel = np.concatenate(trainingLabel) \n",
        "\n",
        "# size of the convolutional and maxpooling operations\n",
        "# ks = 9 # convolution kernel size. NEED TO BE ODD.\n",
        "# mp = 7 # maxpooling size. NEED TO BE ODD.\n",
        "\n",
        "# the number of bins (nb) taken into account by the network is given by\n",
        "# nb = mp**2+mp**2*ks+(mp*ks)-mp+2*ks-2 \n",
        "\n",
        "# val_samples = 10 # If you have a small training set you should consider reducing this number.\n",
        "                 # Otherwise the training will show an error\n",
        "#########################\n",
        "model = uneye.DNN(max_iter = 3000, ks=kernel_size,mp=max_pooling, weights_name=weights_name,\n",
        "                  sampfreq = sampfreq,augmentation = False,val_samples = val_samples, doDiff = False)\n",
        "\n",
        "model.train(trainingLFP,trainingHIGH,trainingLabel)"
      ],
      "metadata": {
        "cellView": "form",
        "id": "VI8v8ZOq-HWL"
      },
      "execution_count": null,
      "outputs": []
    },
    {
      "cell_type": "code",
      "source": [
        "#@title 6. download your weights \n",
        "download_name = './training/' + weights_name\n",
        "files.download(download_name)"
      ],
      "metadata": {
        "colab": {
          "base_uri": "https://localhost:8080/",
          "height": 17
        },
        "cellView": "form",
        "id": "60uQ8TM_ZKfP",
        "outputId": "56ee41d0-e544-46f2-edef-be1d0a267179"
      },
      "execution_count": null,
      "outputs": [
        {
          "output_type": "display_data",
          "data": {
            "application/javascript": [
              "\n",
              "    async function download(id, filename, size) {\n",
              "      if (!google.colab.kernel.accessAllowed) {\n",
              "        return;\n",
              "      }\n",
              "      const div = document.createElement('div');\n",
              "      const label = document.createElement('label');\n",
              "      label.textContent = `Downloading \"${filename}\": `;\n",
              "      div.appendChild(label);\n",
              "      const progress = document.createElement('progress');\n",
              "      progress.max = size;\n",
              "      div.appendChild(progress);\n",
              "      document.body.appendChild(div);\n",
              "\n",
              "      const buffers = [];\n",
              "      let downloaded = 0;\n",
              "\n",
              "      const channel = await google.colab.kernel.comms.open(id);\n",
              "      // Send a message to notify the kernel that we're ready.\n",
              "      channel.send({})\n",
              "\n",
              "      for await (const message of channel.messages) {\n",
              "        // Send a message to notify the kernel that we're ready.\n",
              "        channel.send({})\n",
              "        if (message.buffers) {\n",
              "          for (const buffer of message.buffers) {\n",
              "            buffers.push(buffer);\n",
              "            downloaded += buffer.byteLength;\n",
              "            progress.value = downloaded;\n",
              "          }\n",
              "        }\n",
              "      }\n",
              "      const blob = new Blob(buffers, {type: 'application/binary'});\n",
              "      const a = document.createElement('a');\n",
              "      a.href = window.URL.createObjectURL(blob);\n",
              "      a.download = filename;\n",
              "      div.appendChild(a);\n",
              "      a.click();\n",
              "      div.remove();\n",
              "    }\n",
              "  "
            ],
            "text/plain": [
              "<IPython.core.display.Javascript object>"
            ]
          },
          "metadata": {}
        },
        {
          "output_type": "display_data",
          "data": {
            "application/javascript": [
              "download(\"download_70d17623-92e7-4b71-bf92-f0e5f31eaace\", \"my_weights\", 145506)"
            ],
            "text/plain": [
              "<IPython.core.display.Javascript object>"
            ]
          },
          "metadata": {}
        }
      ]
    }
  ]
}