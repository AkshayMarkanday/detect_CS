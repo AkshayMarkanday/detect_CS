{
  "nbformat": 4,
  "nbformat_minor": 0,
  "metadata": {
    "colab": {
      "name": "install_cs_detect.ipynb",
      "version": "0.3.2",
      "provenance": [],
      "collapsed_sections": [],
      "toc_visible": true,
      "include_colab_link": true
    },
    "kernelspec": {
      "name": "python3",
      "display_name": "Python 3"
    }
  },
  "cells": [
    {
      "cell_type": "markdown",
      "metadata": {
        "id": "view-in-github",
        "colab_type": "text"
      },
      "source": [
        "<a href=\"https://colab.research.google.com/github/jobellet/detect_CS/blob/master/install_cs_detect.ipynb\" target=\"_parent\"><img src=\"https://colab.research.google.com/assets/colab-badge.svg\" alt=\"Open In Colab\"/></a>"
      ]
    },
    {
      "metadata": {
        "id": "vi0nKFuL4Fuq",
        "colab_type": "text"
      },
      "cell_type": "markdown",
      "source": [
        "# These two cells install the toolbox to your google drive"
      ]
    },
    {
      "metadata": {
        "id": "uBuzXJuA4UyO",
        "colab_type": "text"
      },
      "cell_type": "markdown",
      "source": [
        "## The cell bellow authorizes google to modify files on your drive\n",
        "- run the cell\n",
        "- clic on the link\n",
        "- select your account\n",
        "- copy the code\n",
        "- paste it in the empty field\n",
        "- press enter"
      ]
    },
    {
      "metadata": {
        "id": "6Gnem7nmcT5a",
        "colab_type": "code",
        "outputId": "f8ed413c-ae08-465e-ffe8-3b608dfe1354",
        "colab": {
          "base_uri": "https://localhost:8080/",
          "height": 126
        }
      },
      "cell_type": "code",
      "source": [
        "# Make your google drive accessible to colab\n",
        "from google.colab import drive\n",
        "drive.mount('/gdrive')"
      ],
      "execution_count": 2,
      "outputs": [
        {
          "output_type": "stream",
          "text": [
            "Go to this URL in a browser: https://accounts.google.com/o/oauth2/auth?client_id=947318989803-6bn6qk8qdgf4n4g3pfee6491hc0brc4i.apps.googleusercontent.com&redirect_uri=urn%3Aietf%3Awg%3Aoauth%3A2.0%3Aoob&scope=email%20https%3A%2F%2Fwww.googleapis.com%2Fauth%2Fdocs.test%20https%3A%2F%2Fwww.googleapis.com%2Fauth%2Fdrive%20https%3A%2F%2Fwww.googleapis.com%2Fauth%2Fdrive.photos.readonly%20https%3A%2F%2Fwww.googleapis.com%2Fauth%2Fpeopleapi.readonly&response_type=code\n",
            "\n",
            "Enter your authorization code:\n",
            "··········\n",
            "Mounted at /gdrive\n"
          ],
          "name": "stdout"
        }
      ]
    },
    {
      "metadata": {
        "id": "ql8Sz4At7Q0O",
        "colab_type": "text"
      },
      "cell_type": "markdown",
      "source": [
        "# The next cell import the toolboxes to your drive"
      ]
    },
    {
      "metadata": {
        "id": "zQbvw7XxbT5q",
        "colab_type": "code",
        "outputId": "7123afa7-4c0a-4221-ee1a-7eafbc256657",
        "colab": {
          "base_uri": "https://localhost:8080/",
          "height": 266
        }
      },
      "cell_type": "code",
      "source": [
        "Path_to_drive = '/gdrive/My Drive/'\n",
        "\n",
        "import os\n",
        "os.chdir(Path_to_drive)\n",
        "\n",
        "# download U'n'Eye, a powerful deep neural network originaly aimed at detecting eye movement\n",
        "!git clone https://github.com/berenslab/uneye.git\n",
        "\n",
        "os.chdir('uneye')\n",
        "# remove folders and files that are not needed\n",
        "import shutil\n",
        "files = ['README.md','UnEye.ipynb','logo.jpeg','requirements_lin.txt','requirements_mac.txt','requirements_wind.txt','setup.py']\n",
        "for i,f in enumerate(files):\n",
        "    try:\n",
        "        os.remove(f)\n",
        "    except:\n",
        "        print(\"File already deleted: \", f)\n",
        "          \n",
        "folders = ['.git','analysis scripts','data']\n",
        "for i,f in enumerate(folders) :\n",
        "    try:\n",
        "        shutil.rmtree(f)\n",
        "    except:\n",
        "        print(\"Folder already deleted: \", f)\n",
        "        \n",
        "# add a patch to use U'n'Eye as a complex spike detector\n",
        "!git clone https://github.com/jobellet/detect_CS.git"
      ],
      "execution_count": 5,
      "outputs": [
        {
          "output_type": "stream",
          "text": [
            "Cloning into 'uneye'...\n",
            "remote: Enumerating objects: 4, done.\u001b[K\n",
            "remote: Counting objects: 100% (4/4), done.\u001b[K\n",
            "remote: Compressing objects: 100% (4/4), done.\u001b[K\n",
            "remote: Total 987 (delta 0), reused 2 (delta 0), pack-reused 983\u001b[K\n",
            "Receiving objects: 100% (987/987), 169.39 MiB | 13.91 MiB/s, done.\n",
            "Resolving deltas: 100% (207/207), done.\n",
            "Checking out files: 100% (489/489), done.\n",
            "Cloning into 'detect_CS'...\n",
            "remote: Enumerating objects: 31, done.\u001b[K\n",
            "remote: Counting objects: 100% (31/31), done.\u001b[K\n",
            "remote: Compressing objects: 100% (27/27), done.\u001b[K\n",
            "remote: Total 31 (delta 8), reused 12 (delta 2), pack-reused 0\u001b[K\n",
            "Unpacking objects: 100% (31/31), done.\n"
          ],
          "name": "stdout"
        }
      ]
    }
  ]
}