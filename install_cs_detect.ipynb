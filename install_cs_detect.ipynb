{
  "nbformat": 4,
  "nbformat_minor": 0,
  "metadata": {
    "colab": {
      "name": "install_cs_detect.ipynb",
      "version": "0.3.2",
      "provenance": [],
      "collapsed_sections": [],
      "toc_visible": true,
      "include_colab_link": true
    },
    "kernelspec": {
      "name": "python3",
      "display_name": "Python 3"
    }
  },
  "cells": [
    {
      "cell_type": "markdown",
      "metadata": {
        "id": "view-in-github",
        "colab_type": "text"
      },
      "source": [
        "<a href=\"https://colab.research.google.com/github/jobellet/detect_CS/blob/master/install_cs_detect.ipynb\" target=\"_parent\"><img src=\"https://colab.research.google.com/assets/colab-badge.svg\" alt=\"Open In Colab\"/></a>"
      ]
    },
    {
      "metadata": {
        "id": "vi0nKFuL4Fuq",
        "colab_type": "text"
      },
      "cell_type": "markdown",
      "source": [
        "# These two cells install the toolbox to your google drive"
      ]
    },
    {
      "metadata": {
        "id": "uBuzXJuA4UyO",
        "colab_type": "text"
      },
      "cell_type": "markdown",
      "source": [
        "## The cell bellow authorizes google to modify files on your drive\n",
        "- run the cell\n",
        "- clic on the link\n",
        "- select your account\n",
        "- copy the code\n",
        "- paste it in the empty field\n",
        "- press enter"
      ]
    },
    {
      "metadata": {
        "id": "6Gnem7nmcT5a",
        "colab_type": "code",
        "colab": {}
      },
      "cell_type": "code",
      "source": [
        "# Make your google drive accessible to colab\n",
        "from google.colab import drive\n",
        "drive.mount('/gdrive')"
      ],
      "execution_count": 0,
      "outputs": []
    },
    {
      "metadata": {
        "id": "ql8Sz4At7Q0O",
        "colab_type": "text"
      },
      "cell_type": "markdown",
      "source": [
        "# The next cell imports the toolboxes to your drive"
      ]
    },
    {
      "metadata": {
        "id": "zQbvw7XxbT5q",
        "colab_type": "code",
        "colab": {}
      },
      "cell_type": "code",
      "source": [
        "Path_to_drive = '/gdrive/My Drive/'\n",
        "\n",
        "import os\n",
        "os.chdir(Path_to_drive)\n",
        "\n",
        "# download U'n'Eye, a powerful deep neural network originally aimed at detecting eye movements\n",
        "!git clone https://github.com/berenslab/uneye.git\n",
        "\n",
        "os.chdir('uneye')\n",
        "# remove folders and files that are not needed\n",
        "import shutil\n",
        "files = ['README.md','UnEye.ipynb','logo.jpeg','requirements_lin.txt','requirements_mac.txt','requirements_wind.txt','setup.py']\n",
        "for i,f in enumerate(files):\n",
        "    try:\n",
        "        os.remove(f)\n",
        "    except:\n",
        "        print(\"File already deleted: \", f)\n",
        "          \n",
        "folders = ['.git','analysis scripts','data']\n",
        "for i,f in enumerate(folders) :\n",
        "    try:\n",
        "        shutil.rmtree(f)\n",
        "    except:\n",
        "        print(\"Folder already deleted: \", f)\n",
        "        \n",
        "# add a patch to use U'n'Eye as a complex spike detector\n",
        "!git clone https://github.com/jobellet/detect_CS.git"
      ],
      "execution_count": 0,
      "outputs": []
    }
  ]
}