{
  "nbformat": 4,
  "nbformat_minor": 0,
  "metadata": {
    "colab": {
      "name": "train_cs_detector.ipynb",
      "provenance": [],
      "collapsed_sections": [],
      "toc_visible": true,
      "include_colab_link": true
    },
    "kernelspec": {
      "name": "python3",
      "display_name": "Python 3"
    },
    "accelerator": "GPU"
  },
  "cells": [
    {
      "cell_type": "markdown",
      "metadata": {
        "id": "view-in-github",
        "colab_type": "text"
      },
      "source": [
        "<a href=\"https://colab.research.google.com/github/jobellet/detect_CS/blob/master/train_cs_detector.ipynb\" target=\"_parent\"><img src=\"https://colab.research.google.com/assets/colab-badge.svg\" alt=\"Open In Colab\"/></a>"
      ]
    },
    {
      "cell_type": "markdown",
      "metadata": {
        "id": "KTMI35iHWzaD",
        "colab_type": "text"
      },
      "source": [
        "#**STEP 2: TRAIN A NETWORK**"
      ]
    },
    {
      "cell_type": "markdown",
      "metadata": {
        "id": "Y_KxE2T70ErD",
        "colab_type": "text"
      },
      "source": [
        "## First of all, drag all the files you want to use for training in the folder : uneye/work/TrainYourNetwork/\n",
        "\n",
        "Once all the files are uploaded, you can run the next cell"
      ]
    },
    {
      "cell_type": "markdown",
      "metadata": {
        "id": "cp48z2bNyzNu",
        "colab_type": "text"
      },
      "source": [
        "## The cell bellow authorizes google to modify files on your drive\n",
        "- run the cell\n",
        "- clic on the link\n",
        "- select your account\n",
        "- copy the code\n",
        "- paste it in the empty field\n",
        "- press enter"
      ]
    },
    {
      "cell_type": "code",
      "metadata": {
        "id": "f-Wrw_Dwz3L7",
        "colab_type": "code",
        "colab": {}
      },
      "source": [
        "# Make your google drive accessible to colab\n",
        "from google.colab import drive\n",
        "drive.mount('/gdrive')"
      ],
      "execution_count": 0,
      "outputs": []
    },
    {
      "cell_type": "markdown",
      "metadata": {
        "id": "yeLisVhfz7_g",
        "colab_type": "text"
      },
      "source": [
        "## The next cell installs all necessary dependencies\n",
        "\n"
      ]
    },
    {
      "cell_type": "code",
      "metadata": {
        "colab_type": "code",
        "id": "8YBthUN7eg_9",
        "colab": {}
      },
      "source": [
        "Path_to_UnEye_folder = '/gdrive/My Drive/uneye/' \n",
        "\n",
        "# to do math operations\n",
        "import numpy as np\n",
        "import scipy.io as io\n",
        "\n",
        "# go to the uneye folder\n",
        "import os\n",
        "os.chdir(Path_to_UnEye_folder)\n",
        "\n",
        "# to read .mat files\n",
        "!pip install mat4py\n",
        "import mat4py\n",
        "# to do read .pkl files\n",
        "import pandas as pd\n",
        "\n",
        "# to do clustering\n",
        "!pip install hdbscan\n",
        "\n",
        "import uneye\n",
        "from detect_CS import *"
      ],
      "execution_count": 0,
      "outputs": []
    },
    {
      "cell_type": "markdown",
      "metadata": {
        "id": "chSrPfHmvUDy",
        "colab_type": "text"
      },
      "source": [
        "# The next cell trains the network\n",
        "## Change the variables of the next cell as described in the comments\n",
        "## Then run the cell"
      ]
    },
    {
      "cell_type": "code",
      "metadata": {
        "id": "L_VgSK3fV3OS",
        "colab_type": "code",
        "colab": {}
      },
      "source": [
        "# Set all the following parameters before running the cell\n",
        "field_LFP = ['lfp']         # in .mat files where the LFP data is in the variable lfp then set: field_LFP = ['lfp']\n",
        "                            # in .mat files where the LFP data is in the structure Data.lfp then set: field_LFP = ['Data','lfp']\n",
        "                            # you can use either the LFP signal or the wide-band signal\n",
        "field_high_pass = ['High_Pass'] # same comment as above\n",
        "field_label = ['Labeled_Data'] # same comment as above\n",
        "\n",
        "# set the name of the weights of the network\n",
        "weights_name = 'my_weight_name' # the weights are going to be saved in the folder /training\n",
        "\n",
        "# set sample frequency of your recording\n",
        "sampfreq = 25000 # in Hz\n",
        "\n",
        "# size of the convolutional and maxpooling operations\n",
        "ks = 9 # convolution kernel size \n",
        "mp = 7 # maxpooling size\n",
        "# the number of bins (nb) taken into account by the network is given by\n",
        "# nb = mp**2+mp**2*ks+(mp*ks)-mp+2*ks-2 \n",
        "\n",
        "\n",
        "########################################################################################################################################################################################\n",
        "training_folder = '/gdrive/My Drive/uneye/work/TrainYourNetwork/'\n",
        "training_files = os.listdir(training_folder)\n",
        "\n",
        "bigLFP = []\n",
        "bigHIGH = []\n",
        "bigLabels = []\n",
        "for tf in training_files:\n",
        "    LFP,High,Labels,_ = load_data(filename = training_folder+tf,field_LFP = field_LFP,field_high_pass = field_high_pass, field_label = field_label)\n",
        "    interval_inspected = create_random_intervals(sampfreq,LFP,Labels)\n",
        "    compLFP,compHIGH,compLabels = concatenate_segments(LFP,High,interval_inspected,Labels)\n",
        "    bigLFP = np.concatenate((bigLFP,compLFP))\n",
        "    bigHIGH = np.concatenate((bigHIGH,compHIGH))\n",
        "    bigLabels = np.concatenate((bigLabels,compLabels))\n",
        "val_samples = np.max(np.round(.1*len(bigLFP)/sampfreq),1)\n",
        "model = uneye.DNN(max_iter = 3000, ks=ks,mp=mp, weights_name=weights_name,\n",
        "                  sampfreq = sampfreq,augmentation = False,val_samples = val_samples, doDiff = False)\n",
        "model.train(bigLFP,bigHIGH,bigLabels)"
      ],
      "execution_count": 0,
      "outputs": []
    }
  ]
}