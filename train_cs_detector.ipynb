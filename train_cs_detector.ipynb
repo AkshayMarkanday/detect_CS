{
  "nbformat": 4,
  "nbformat_minor": 0,
  "metadata": {
    "colab": {
      "name": "train_cs_detector.ipynb",
      "provenance": [],
      "collapsed_sections": [],
      "toc_visible": true,
      "include_colab_link": true
    },
    "kernelspec": {
      "name": "python3",
      "display_name": "Python 3"
    },
    "accelerator": "GPU"
  },
  "cells": [
    {
      "cell_type": "markdown",
      "metadata": {
        "id": "view-in-github",
        "colab_type": "text"
      },
      "source": [
        "<a href=\"https://colab.research.google.com/github/jobellet/detect_CS/blob/master/train_cs_detector.ipynb\" target=\"_parent\"><img src=\"https://colab.research.google.com/assets/colab-badge.svg\" alt=\"Open In Colab\"/></a>"
      ]
    },
    {
      "cell_type": "markdown",
      "metadata": {
        "id": "KTMI35iHWzaD",
        "colab_type": "text"
      },
      "source": [
        "# TRAIN A NETWORK"
      ]
    },
    {
      "cell_type": "markdown",
      "metadata": {
        "id": "Y_KxE2T70ErD",
        "colab_type": "text"
      },
      "source": [
        "## First of all, drag all the files you want to use for training in the folder : uneye/work/TrainYourNetwork/\n",
        "\n",
        "Ones all the files are uploaded, you can run the next cell"
      ]
    },
    {
      "cell_type": "markdown",
      "metadata": {
        "id": "cp48z2bNyzNu",
        "colab_type": "text"
      },
      "source": [
        "## The cell bellow authorizes google to modify files on your drive\n",
        "- run the cell\n",
        "- clic on the link\n",
        "- select your account\n",
        "- copy the code\n",
        "- paste it in the empty field\n",
        "- press enter"
      ]
    },
    {
      "cell_type": "code",
      "metadata": {
        "id": "f-Wrw_Dwz3L7",
        "colab_type": "code",
        "outputId": "96b2ad71-75f5-47a9-df39-131baf8977eb",
        "colab": {
          "base_uri": "https://localhost:8080/",
          "height": 122
        }
      },
      "source": [
        "# Make your google drive accessible to colab\n",
        "from google.colab import drive\n",
        "drive.mount('/gdrive')"
      ],
      "execution_count": 1,
      "outputs": [
        {
          "output_type": "stream",
          "text": [
            "Go to this URL in a browser: https://accounts.google.com/o/oauth2/auth?client_id=947318989803-6bn6qk8qdgf4n4g3pfee6491hc0brc4i.apps.googleusercontent.com&redirect_uri=urn%3aietf%3awg%3aoauth%3a2.0%3aoob&response_type=code&scope=email%20https%3a%2f%2fwww.googleapis.com%2fauth%2fdocs.test%20https%3a%2f%2fwww.googleapis.com%2fauth%2fdrive%20https%3a%2f%2fwww.googleapis.com%2fauth%2fdrive.photos.readonly%20https%3a%2f%2fwww.googleapis.com%2fauth%2fpeopleapi.readonly\n",
            "\n",
            "Enter your authorization code:\n",
            "··········\n",
            "Mounted at /gdrive\n"
          ],
          "name": "stdout"
        }
      ]
    },
    {
      "cell_type": "markdown",
      "metadata": {
        "id": "yeLisVhfz7_g",
        "colab_type": "text"
      },
      "source": [
        "## The next cell installs all necessary dependencies\n",
        "\n"
      ]
    },
    {
      "cell_type": "code",
      "metadata": {
        "colab_type": "code",
        "id": "8YBthUN7eg_9",
        "outputId": "7c095af8-32ef-4e98-db42-186acc25c336",
        "colab": {
          "base_uri": "https://localhost:8080/",
          "height": 408
        }
      },
      "source": [
        "Path_to_UnEye_folder = '/gdrive/My Drive/uneye/' # You might need to change the path yourself\n",
        "\n",
        "# to do math operations\n",
        "import numpy as np\n",
        "import scipy.io as io\n",
        "\n",
        "# go to the uneye folder\n",
        "import os\n",
        "os.chdir(Path_to_UnEye_folder)\n",
        "\n",
        "# to read .mat files\n",
        "!pip install mat4py\n",
        "import mat4py\n",
        "# to do read .pkl files\n",
        "import pandas as pd\n",
        "\n",
        "# to do clustering\n",
        "!pip install hdbscan\n",
        "\n",
        "import uneye\n",
        "from detect_CS import *"
      ],
      "execution_count": 2,
      "outputs": [
        {
          "output_type": "stream",
          "text": [
            "Collecting mat4py\n",
            "  Downloading https://files.pythonhosted.org/packages/25/a2/ec3feb146f6af699d85cf35d719463f2e2fb0d55864dd6d1d48cf0c756cd/mat4py-0.4.2-py2.py3-none-any.whl\n",
            "Installing collected packages: mat4py\n",
            "Successfully installed mat4py-0.4.2\n",
            "Collecting hdbscan\n",
            "\u001b[?25l  Downloading https://files.pythonhosted.org/packages/22/2f/2423d844072f007a74214c1adc46260e45f034bb1679ccadfbb8a601f647/hdbscan-0.8.26.tar.gz (4.7MB)\n",
            "\u001b[K     |████████████████████████████████| 4.7MB 17.9MB/s \n",
            "\u001b[?25h  Installing build dependencies ... \u001b[?25l\u001b[?25hdone\n",
            "  Getting requirements to build wheel ... \u001b[?25l\u001b[?25hdone\n",
            "    Preparing wheel metadata ... \u001b[?25l\u001b[?25hdone\n",
            "Requirement already satisfied: scikit-learn>=0.17 in /usr/local/lib/python3.6/dist-packages (from hdbscan) (0.22.2.post1)\n",
            "Requirement already satisfied: joblib in /usr/local/lib/python3.6/dist-packages (from hdbscan) (0.14.1)\n",
            "Requirement already satisfied: six in /usr/local/lib/python3.6/dist-packages (from hdbscan) (1.12.0)\n",
            "Requirement already satisfied: numpy>=1.16.0 in /usr/local/lib/python3.6/dist-packages (from hdbscan) (1.18.2)\n",
            "Requirement already satisfied: scipy>=0.9 in /usr/local/lib/python3.6/dist-packages (from hdbscan) (1.4.1)\n",
            "Requirement already satisfied: cython>=0.27 in /usr/local/lib/python3.6/dist-packages (from hdbscan) (0.29.15)\n",
            "Building wheels for collected packages: hdbscan\n",
            "  Building wheel for hdbscan (PEP 517) ... \u001b[?25l\u001b[?25hdone\n",
            "  Created wheel for hdbscan: filename=hdbscan-0.8.26-cp36-cp36m-linux_x86_64.whl size=2361299 sha256=243480babe35196359b44c806c57dc0256cbfcd6630955b4335deafa66d05307\n",
            "  Stored in directory: /root/.cache/pip/wheels/82/38/41/372f034d8abd271ef7787a681e0a47fc05d472683a7eb088ed\n",
            "Successfully built hdbscan\n",
            "Installing collected packages: hdbscan\n",
            "Successfully installed hdbscan-0.8.26\n"
          ],
          "name": "stdout"
        }
      ]
    },
    {
      "cell_type": "markdown",
      "metadata": {
        "id": "chSrPfHmvUDy",
        "colab_type": "text"
      },
      "source": [
        "# The next cell trains the network\n",
        "## Change the variables of the next cell as described in the comments\n",
        "## Then run the cell"
      ]
    },
    {
      "cell_type": "code",
      "metadata": {
        "id": "L_VgSK3fV3OS",
        "colab_type": "code",
        "colab": {}
      },
      "source": [
        "# Set all the following parameters before running the cell\n",
        "field_LFP = ['RAW']         # in .mat files where the LFP data is in the variable lfp then set: field_LFP = ['lfp']\n",
        "                            # in .mat files where the LFP data is in the structure Data.lfp then set: field_LFP = ['Data','lfp']\n",
        "                            # in .pkl file where the LFP data is in the key ['lfp'] then set: field_LFP = ['lfp']\n",
        "                            # you can use either the LFP signal or the wide-band signal\n",
        "field_high_pass = ['HIGH'] # same comment as above\n",
        "field_label = ['Labels'] # same comment as above\n",
        "\n",
        "# set the name of the weights of the network\n",
        "weights_name = 'my_weight_name' # the weights is going to be saved in the folder /training\n",
        "\n",
        "# set sample frequency of your recording\n",
        "sampfreq = 25000 # in Hz\n",
        "\n",
        "# size of the convolutional and maxpooling operations\n",
        "ks = 9 # convolution kernel size \n",
        "mp = 7 # maxpooling size\n",
        "# the number of bins (nb) taken into account by the network is given by\n",
        "# nb = mp**2+mp**2*ks+(mp*ks)-mp+2*ks-2 \n",
        "\n",
        "\n",
        "########################################################################################################################################################################################\n",
        "training_folder = '/gdrive/My Drive/uneye/work/TrainYourNetwork/'\n",
        "training_files = os.listdir(training_folder)\n",
        "\n",
        "bigLFP = []\n",
        "bigHIGH = []\n",
        "bigLabels = []\n",
        "for tf in training_files:\n",
        "    LFP,High,Labels,_ = load_data(filename = training_folder+tf,field_LFP = field_LFP,field_high_pass = field_high_pass, field_label = field_label)\n",
        "    interval_inspected = create_random_intervals(sampfreq,LFP,Labels)\n",
        "    compLFP,compHIGH,compLabels = concatenate_segments(LFP,High,interval_inspected,Labels)\n",
        "    bigLFP = np.concatenate((bigLFP,compLFP))\n",
        "    bigHIGH = np.concatenate((bigHIGH,compHIGH))\n",
        "    bigLabels = np.concatenate((bigLabels,compLabels))\n",
        "\n",
        "model = uneye.DNN(max_iter = 3000, ks=ks,mp=mp, weights_name=weights_name,\n",
        "                  sampfreq = sampfreq,augmentation = False,val_samples = 30, doDiff = False)\n",
        "model.train(bigLFP,bigHIGH,bigLabels)"
      ],
      "execution_count": 0,
      "outputs": []
    }
  ]
}