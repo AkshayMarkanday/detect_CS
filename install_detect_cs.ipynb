{
  "nbformat": 4,
  "nbformat_minor": 0,
  "metadata": {
    "colab": {
      "name": "install_detect_cs.ipynb",
      "provenance": [],
      "collapsed_sections": [],
      "toc_visible": true,
      "include_colab_link": true
    },
    "kernelspec": {
      "display_name": "Python 3",
      "language": "python",
      "name": "python3"
    },
    "language_info": {
      "codemirror_mode": {
        "name": "ipython",
        "version": 3
      },
      "file_extension": ".py",
      "mimetype": "text/x-python",
      "name": "python",
      "nbconvert_exporter": "python",
      "pygments_lexer": "ipython3",
      "version": "3.6.0"
    }
  },
  "cells": [
    {
      "cell_type": "markdown",
      "metadata": {
        "id": "view-in-github",
        "colab_type": "text"
      },
      "source": [
        "<a href=\"https://colab.research.google.com/github/jobellet/detect_CS/blob/master/install_detect_cs.ipynb\" target=\"_parent\"><img src=\"https://colab.research.google.com/assets/colab-badge.svg\" alt=\"Open In Colab\"/></a>"
      ]
    },
    {
      "cell_type": "markdown",
      "metadata": {
        "id": "iurcVzPGZ1Ij",
        "colab_type": "text"
      },
      "source": [
        "#**STEP 1: INSTALLING THE SOFTWARE**"
      ]
    },
    {
      "cell_type": "markdown",
      "metadata": {
        "colab_type": "text",
        "id": "vi0nKFuL4Fuq"
      },
      "source": [
        "# These two cells install the toolbox to your google drive"
      ]
    },
    {
      "cell_type": "markdown",
      "metadata": {
        "colab_type": "text",
        "id": "uBuzXJuA4UyO"
      },
      "source": [
        "## The cell bellow authorizes google to modify files on your drive\n",
        "- run the cell\n",
        "- click on the link\n",
        "- select your account\n",
        "- copy the code\n",
        "- paste it in the empty field\n",
        "- press enter"
      ]
    },
    {
      "cell_type": "code",
      "metadata": {
        "colab_type": "code",
        "id": "6Gnem7nmcT5a",
        "colab": {}
      },
      "source": [
        "# Make your google drive accessible to colab\n",
        "from google.colab import drive\n",
        "drive.mount('/gdrive')"
      ],
      "execution_count": 0,
      "outputs": []
    },
    {
      "cell_type": "markdown",
      "metadata": {
        "colab_type": "text",
        "id": "ql8Sz4At7Q0O"
      },
      "source": [
        "# This cell imports the toolboxes to your drive"
      ]
    },
    {
      "cell_type": "code",
      "metadata": {
        "colab_type": "code",
        "id": "zQbvw7XxbT5q",
        "colab": {}
      },
      "source": [
        "Path_to_drive = '/gdrive/My Drive/'\n",
        "\n",
        "import os\n",
        "os.chdir(Path_to_drive)\n",
        "\n",
        "# download U'n'Eye, a deep neural network originally aimed at detecting eye movements\n",
        "!git clone https://github.com/berenslab/uneye.git\n",
        "\n",
        "os.chdir('uneye')\n",
        "\n",
        "# remove folders and files that are not needed\n",
        "import shutil\n",
        "files = ['README.md','UnEye.ipynb','logo.jpeg','requirements_lin.txt','requirements_mac.txt','requirements_wind.txt','setup.py']\n",
        "for i,f in enumerate(files):\n",
        "    try:\n",
        "        os.remove(f)\n",
        "    except:\n",
        "        print(\"File already deleted: \", f)\n",
        "          \n",
        "folders = ['.git','analysis scripts','data','training']\n",
        "for i,f in enumerate(folders) :\n",
        "    try:\n",
        "        shutil.rmtree(f)\n",
        "    except:\n",
        "        print(\"Folder already deleted: \", f)\n",
        "os.makedirs('training',exist_ok = True)\n",
        "os.makedirs('work',exist_ok = True)\n",
        "os.makedirs('work/LabelYourData',exist_ok = True)\n",
        "os.makedirs('work/Output',exist_ok = True)\n",
        "os.makedirs('work/TrainYourNetwork',exist_ok = True)\n",
        "\n",
        "# add a patch to use U'n'Eye as a complex spike detector\n",
        "!git clone https://github.com/jobellet/detect_CS.git"
      ],
      "execution_count": 0,
      "outputs": []
    }
  ]
}