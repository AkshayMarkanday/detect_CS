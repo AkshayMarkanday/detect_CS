{
 "cells": [
  {
   "cell_type": "markdown",
   "metadata": {
    "colab_type": "text",
    "id": "view-in-github"
   },
   "source": [
    "<a href=\"https://colab.research.google.com/github/jobellet/detect_CS/blob/master/predict_cs.ipynb\" target=\"_parent\"><img src=\"https://colab.research.google.com/assets/colab-badge.svg\" alt=\"Open In Colab\"/></a>"
   ]
  },
  {
   "cell_type": "markdown",
   "metadata": {
    "colab_type": "text",
    "id": "cp48z2bNyzNu"
   },
   "source": [
    "## The cell bellow authorizes google to modify files on your drive\n",
    "- run the cell\n",
    "- clic on the link\n",
    "- select your account\n",
    "- copy the code\n",
    "- paste it in the empty field\n",
    "- press enter"
   ]
  },
  {
   "cell_type": "code",
   "execution_count": 0,
   "metadata": {
    "colab": {},
    "colab_type": "code",
    "collapsed": true,
    "id": "f-Wrw_Dwz3L7"
   },
   "outputs": [],
   "source": [
    "# Make your google drive accessible to colab\n",
    "from google.colab import drive\n",
    "drive.mount('/gdrive')"
   ]
  },
  {
   "cell_type": "markdown",
   "metadata": {
    "colab_type": "text",
    "id": "yeLisVhfz7_g"
   },
   "source": [
    "## The next cell installs all necessary dependencies\n",
    "\n"
   ]
  },
  {
   "cell_type": "code",
   "execution_count": 0,
   "metadata": {
    "colab": {},
    "colab_type": "code",
    "collapsed": true,
    "id": "8YBthUN7eg_9"
   },
   "outputs": [],
   "source": [
    "Path_to_UnEye_folder = '/gdrive/My Drive/uneye/' # You might need to change the path yourself\n",
    "\n",
    "# to do math operations\n",
    "import numpy as np\n",
    "import scipy.io as io\n",
    "\n",
    "# go to the uneye folder\n",
    "import os\n",
    "os.chdir(Path_to_UnEye_folder)\n",
    "\n",
    "## to do deep learning # It seems that it is no longer needed to dowload pytorch in colab\n",
    "## http://pytorch.org/\n",
    "#from os.path import exists\n",
    "#from wheel.pep425tags import get_abbr_impl, get_impl_ver, get_abi_tag\n",
    "#platform = '{}{}-{}'.format(get_abbr_impl(), get_impl_ver(), get_abi_tag())\n",
    "#cuda_output = !ldconfig -p|grep cudart.so|sed -e 's/.*\\.\\([0-9]*\\)\\.\\([0-9]*\\)$/cu\\1\\2/'\n",
    "#accelerator = cuda_output[0] if exists('/dev/nvidia0') else 'cpu'\n",
    "#\n",
    "#!pip install -q http://download.pytorch.org/whl/{accelerator}/torch-0.4.1-{platform}-linux_x86_64.whl torchvision\n",
    "\n",
    "# to read .mat files\n",
    "!pip install mat4py\n",
    "import mat4py\n",
    "# to do read .pkl files\n",
    "import pandas as pd\n",
    "\n",
    "# to do clustering\n",
    "!pip install hdbscan\n",
    "\n",
    "import uneye\n",
    "from detect_CS import *\n"
   ]
  },
  {
   "cell_type": "markdown",
   "metadata": {
    "colab_type": "text",
    "id": "chSrPfHmvUDy"
   },
   "source": [
    "# The next cell detects complex spikes in your data\n",
    "## Change the variables of the next cell as described in the comments\n",
    "## Then run the cell"
   ]
  },
  {
   "cell_type": "code",
   "execution_count": 0,
   "metadata": {
    "colab": {},
    "colab_type": "code",
    "collapsed": true,
    "id": "At_o-WPiL0x7"
   },
   "outputs": [],
   "source": [
    "###########################\n",
    "# the file containing the electrophysiological data\n",
    "filename = 'my_folder/my_file_name' # path of the file your want to label\n",
    "                          # it can be a .mat file, a .pkl file or a .csv file\n",
    "                          # set to [] if you use .csv files\n",
    "field_LFP = ['my_field_name'] # if in a .pkl file, the LFP data is in the key ['lfp'], then set: field_LFP = 'lfp'\n",
    "                            # if in a .mat file, the LFP data is in the variable lfp, then set: field_LFP = ['lfp']\n",
    "                            # in a .mat file the LFP data is in the structure Data.lfp, then set: field_LFP = ['Data','lfp']\n",
    "                            # with .csv files this is the path to the file containing LFP\n",
    "                            # You can also input the wide band signal, it is going to be filtered anyway\n",
    "                            \n",
    "field_high_pass = ['my_field_name'] # same comment as above\n",
    "###########################\n",
    "\n",
    "\n",
    "###########################\n",
    "# the name of the weights of the network\n",
    "weights_name = 'my_weight_name' # the weights are located in /training\n",
    "###########################\n",
    "\n",
    "\n",
    "###########################\n",
    "# sample frequency of your recording\n",
    "sampfreq = 25000 \n",
    "###########################\n",
    "\n",
    "\n",
    "###########################\n",
    "# size of the convolutional and maxpooling operations\n",
    "# !!! it has to be the same as for the training !!!\n",
    "ks = 9 # convolution kernel size. Needs to be odd number\n",
    "mp = 7 # maxpooling size. Needs to be odd number\n",
    "# the number of bins (nb) taken into account by the network is given by\n",
    "# nb = mp**2+mp**2*c+(mp*c)-mp+2*c-2 \n",
    "###########################\n",
    "\n",
    "\n",
    "\n",
    "#################################\n",
    "# here there is nothing to modify unless you know what you are doing\n",
    "LFP,High,_ = load_data(filename = filename,field_LFP = field_LFP,field_high_pass = field_high_pass)\n",
    "\n",
    "output = detect_CS(weights_name,\n",
    "                   LFP,\n",
    "                   High,\n",
    "                   plot = False,\n",
    "                   output_name = None,\n",
    "                   sampling_frequency = 25000,\n",
    "                   ks=ks,\n",
    "                   mp=mp,\n",
    "                   realign = True,\n",
    "                   plot_only_good = True,\n",
    "                   alignment_w = (-.5,2),\n",
    "                   cluster = True,\n",
    "                   cluster_w = (-.5,2),\n",
    "                   plot_w= (-4,8),\n",
    "                   exlude_w = 3)"
   ]
  }
 ],
 "metadata": {
  "accelerator": "GPU",
  "colab": {
   "collapsed_sections": [],
   "include_colab_link": true,
   "name": "predict_cs.ipynb",
   "provenance": [],
   "toc_visible": true,
   "version": "0.3.2"
  },
  "kernelspec": {
   "display_name": "Python 3",
   "language": "python",
   "name": "python3"
  },
  "language_info": {
   "codemirror_mode": {
    "name": "ipython",
    "version": 3
   },
   "file_extension": ".py",
   "mimetype": "text/x-python",
   "name": "python",
   "nbconvert_exporter": "python",
   "pygments_lexer": "ipython3",
   "version": "3.6.0"
  }
 },
 "nbformat": 4,
 "nbformat_minor": 0
}
