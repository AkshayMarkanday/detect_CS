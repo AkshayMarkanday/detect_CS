{
  "nbformat": 4,
  "nbformat_minor": 0,
  "metadata": {
    "accelerator": "GPU",
    "colab": {
      "name": "predict_cs.ipynb",
      "provenance": [],
      "collapsed_sections": [],
      "toc_visible": true,
      "include_colab_link": true
    },
    "kernelspec": {
      "display_name": "Python 3",
      "language": "python",
      "name": "python3"
    },
    "language_info": {
      "codemirror_mode": {
        "name": "ipython",
        "version": 3
      },
      "file_extension": ".py",
      "mimetype": "text/x-python",
      "name": "python",
      "nbconvert_exporter": "python",
      "pygments_lexer": "ipython3",
      "version": "3.6.0"
    }
  },
  "cells": [
    {
      "cell_type": "markdown",
      "metadata": {
        "id": "view-in-github",
        "colab_type": "text"
      },
      "source": [
        "<a href=\"https://colab.research.google.com/github/jobellet/detect_CS/blob/master/predict_cs.ipynb\" target=\"_parent\"><img src=\"https://colab.research.google.com/assets/colab-badge.svg\" alt=\"Open In Colab\"/></a>"
      ]
    },
    {
      "cell_type": "markdown",
      "metadata": {
        "id": "UliGBtSgNq5h",
        "colab_type": "text"
      },
      "source": [
        "#**STEP 3: DETECT COMPLEX SPIKES**"
      ]
    },
    {
      "cell_type": "markdown",
      "metadata": {
        "id": "4brTRCWeOmeu",
        "colab_type": "text"
      },
      "source": [
        "## First of all, drag all the files you want to analyse in : uneye/work/LabelYourData/\n",
        "\n",
        "Once all the files are uploaded, you can run the next cell"
      ]
    },
    {
      "cell_type": "markdown",
      "metadata": {
        "colab_type": "text",
        "id": "cp48z2bNyzNu"
      },
      "source": [
        "## The cell bellow authorizes google to modify files on your drive\n",
        "- run the cell\n",
        "- clic on the link\n",
        "- select your account\n",
        "- copy the code\n",
        "- paste it in the empty field\n",
        "- press enter"
      ]
    },
    {
      "cell_type": "code",
      "metadata": {
        "colab_type": "code",
        "id": "f-Wrw_Dwz3L7",
        "outputId": "7bb8508f-e952-437c-d173-06d4d062eb8d",
        "colab": {
          "base_uri": "https://localhost:8080/",
          "height": 128
        }
      },
      "source": [
        "# Make your google drive accessible to colab\n",
        "from google.colab import drive\n",
        "drive.mount('/gdrive')"
      ],
      "execution_count": 1,
      "outputs": [
        {
          "output_type": "stream",
          "text": [
            "Go to this URL in a browser: https://accounts.google.com/o/oauth2/auth?client_id=947318989803-6bn6qk8qdgf4n4g3pfee6491hc0brc4i.apps.googleusercontent.com&redirect_uri=urn%3aietf%3awg%3aoauth%3a2.0%3aoob&response_type=code&scope=email%20https%3a%2f%2fwww.googleapis.com%2fauth%2fdocs.test%20https%3a%2f%2fwww.googleapis.com%2fauth%2fdrive%20https%3a%2f%2fwww.googleapis.com%2fauth%2fdrive.photos.readonly%20https%3a%2f%2fwww.googleapis.com%2fauth%2fpeopleapi.readonly\n",
            "\n",
            "Enter your authorization code:\n",
            "··········\n",
            "Mounted at /gdrive\n"
          ],
          "name": "stdout"
        }
      ]
    },
    {
      "cell_type": "markdown",
      "metadata": {
        "colab_type": "text",
        "id": "yeLisVhfz7_g"
      },
      "source": [
        "## The next cell installs all necessary dependencies\n",
        "\n"
      ]
    },
    {
      "cell_type": "code",
      "metadata": {
        "colab_type": "code",
        "id": "8YBthUN7eg_9",
        "outputId": "dac1ac5b-876f-4103-9bc6-911a26b3e551",
        "colab": {
          "base_uri": "https://localhost:8080/",
          "height": 435
        }
      },
      "source": [
        "Path_to_UnEye_folder = '/gdrive/My Drive/uneye/' \n",
        "\n",
        "# to do math operations\n",
        "import numpy as np\n",
        "import scipy.io as io\n",
        "\n",
        "# go to the uneye folder\n",
        "import os\n",
        "os.chdir(Path_to_UnEye_folder)\n",
        "\n",
        "# to read .mat files\n",
        "!pip install mat4py\n",
        "import mat4py\n",
        "# to do read .pkl files\n",
        "import pandas as pd\n",
        "\n",
        "# to do clustering\n",
        "!pip install hdbscan\n",
        "\n",
        "import uneye\n",
        "from detect_CS import *\n"
      ],
      "execution_count": 2,
      "outputs": [
        {
          "output_type": "stream",
          "text": [
            "Collecting mat4py\n",
            "  Downloading https://files.pythonhosted.org/packages/25/a2/ec3feb146f6af699d85cf35d719463f2e2fb0d55864dd6d1d48cf0c756cd/mat4py-0.4.2-py2.py3-none-any.whl\n",
            "Installing collected packages: mat4py\n",
            "Successfully installed mat4py-0.4.2\n",
            "Collecting hdbscan\n",
            "\u001b[?25l  Downloading https://files.pythonhosted.org/packages/22/2f/2423d844072f007a74214c1adc46260e45f034bb1679ccadfbb8a601f647/hdbscan-0.8.26.tar.gz (4.7MB)\n",
            "\u001b[K     |████████████████████████████████| 4.7MB 8.3MB/s \n",
            "\u001b[?25h  Installing build dependencies ... \u001b[?25l\u001b[?25hdone\n",
            "  Getting requirements to build wheel ... \u001b[?25l\u001b[?25hdone\n",
            "    Preparing wheel metadata ... \u001b[?25l\u001b[?25hdone\n",
            "Requirement already satisfied: six in /usr/local/lib/python3.6/dist-packages (from hdbscan) (1.12.0)\n",
            "Requirement already satisfied: cython>=0.27 in /usr/local/lib/python3.6/dist-packages (from hdbscan) (0.29.15)\n",
            "Requirement already satisfied: scipy>=0.9 in /usr/local/lib/python3.6/dist-packages (from hdbscan) (1.4.1)\n",
            "Requirement already satisfied: joblib in /usr/local/lib/python3.6/dist-packages (from hdbscan) (0.14.1)\n",
            "Requirement already satisfied: scikit-learn>=0.17 in /usr/local/lib/python3.6/dist-packages (from hdbscan) (0.22.2.post1)\n",
            "Requirement already satisfied: numpy>=1.16.0 in /usr/local/lib/python3.6/dist-packages (from hdbscan) (1.18.2)\n",
            "Building wheels for collected packages: hdbscan\n",
            "  Building wheel for hdbscan (PEP 517) ... \u001b[?25l\u001b[?25hdone\n",
            "  Created wheel for hdbscan: filename=hdbscan-0.8.26-cp36-cp36m-linux_x86_64.whl size=2361263 sha256=ca162ecc3fde0e875ffac5e2fbad728bf045b104c26ddf22cc626b173d4ccaba\n",
            "  Stored in directory: /root/.cache/pip/wheels/82/38/41/372f034d8abd271ef7787a681e0a47fc05d472683a7eb088ed\n",
            "Successfully built hdbscan\n",
            "Installing collected packages: hdbscan\n",
            "Successfully installed hdbscan-0.8.26\n"
          ],
          "name": "stdout"
        }
      ]
    },
    {
      "cell_type": "markdown",
      "metadata": {
        "colab_type": "text",
        "id": "chSrPfHmvUDy"
      },
      "source": [
        "# The next cell detects complex spikes in your data\n",
        "## Change the variables of the next cell as described in the comments\n",
        "## Then run the cell"
      ]
    },
    {
      "cell_type": "code",
      "metadata": {
        "colab_type": "code",
        "id": "At_o-WPiL0x7",
        "colab": {
          "base_uri": "https://localhost:8080/",
          "height": 35
        },
        "outputId": "821fba97-e0ee-46fc-afab-e4c35dc73cec"
      },
      "source": [
        "###########################\n",
        "field_LFP = ['AOData','CLFP']# here you write the name of the variable that contains the LFP signal in a .mat file\n",
        "                            #for instance, if it is in the variable lfp, then set: field_LFP = ['lfp']\n",
        "                            # if is in a structure e.g. Data.lfp, then set: field_LFP = ['Data','lfp']\n",
        "                            # Alternatively, you can input the wide band signal, it is going to be filtered anyway\n",
        "                            \n",
        "field_high_pass = ['AOData','CSPK'] # same comment as above\n",
        "\n",
        "# weights of your network\n",
        "weights_name = 'my_weight_name' # the weights are located in /training by default. Write the full path if your weights are located elsewhere.\n",
        "\n",
        "# sample frequency of your recording\n",
        "sampfreq = 25000 # in Hz\n",
        "\n",
        "# size of the convolutional and maxpooling operations\n",
        "# !!! it has to be the same as for the training !!!\n",
        "ks = 9 # convolution kernel size. Needs to be odd number\n",
        "mp = 7 # maxpooling size. Needs to be odd number\n",
        "# the number of bins (nb) taken into account by the network is given by\n",
        "# nb = mp**2+mp**2*c+(mp*c)-mp+2*c-2 \n",
        "\n",
        "#################################\n",
        "# here there is nothing to modify unless you know what you are doing\n",
        "testing_folder = '/gdrive/My Drive/uneye/work/LabelYourData/'\n",
        "testing_files = os.listdir(testing_folder)\n",
        "output_folder = '/gdrive/My Drive/uneye/work/Output/'\n",
        "for tf in testing_files:\n",
        "    LFP,High,_,_ = load_data(filename = testing_folder+tf,field_LFP = field_LFP,field_high_pass = field_high_pass)\n",
        "    \n",
        "    output = detect_CS(weights_name,\n",
        "                   LFP,\n",
        "                   High,\n",
        "                   plot = False,\n",
        "                   output_name = output_folder+tf[:tf.find('.')]+'_output.mat',\n",
        "                   sampling_frequency = sampfreq,\n",
        "                   ks=ks,\n",
        "                   mp=mp)\n",
        "    \n",
        "    "
      ],
      "execution_count": 3,
      "outputs": [
        {
          "output_type": "stream",
          "text": [
            "saving /gdrive/My Drive/uneye/work/Output/PC_EMIL_S1_IN_21-12-2017_output.mat\n"
          ],
          "name": "stdout"
        }
      ]
    }
  ]
}