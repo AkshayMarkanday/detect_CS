{
  "nbformat": 4,
  "nbformat_minor": 0,
  "metadata": {
    "colab": {
      "name": "predict_cs.ipynb",
      "version": "0.3.2",
      "provenance": [],
      "collapsed_sections": [],
      "toc_visible": true,
      "include_colab_link": true
    },
    "kernelspec": {
      "name": "python3",
      "display_name": "Python 3"
    },
    "accelerator": "GPU"
  },
  "cells": [
    {
      "cell_type": "markdown",
      "metadata": {
        "id": "view-in-github",
        "colab_type": "text"
      },
      "source": [
        "<a href=\"https://colab.research.google.com/github/jobellet/detect_CS/blob/master/predict_cs.ipynb\" target=\"_parent\"><img src=\"https://colab.research.google.com/assets/colab-badge.svg\" alt=\"Open In Colab\"/></a>"
      ]
    },
    {
      "metadata": {
        "id": "cp48z2bNyzNu",
        "colab_type": "text"
      },
      "cell_type": "markdown",
      "source": [
        "## The cell bellow authorizes google to modify files on your drive\n",
        "- run the cell\n",
        "- clic on the link\n",
        "- select your account\n",
        "- copy the code\n",
        "- paste it in the empty field\n",
        "- press enter"
      ]
    },
    {
      "metadata": {
        "id": "f-Wrw_Dwz3L7",
        "colab_type": "code",
        "colab": {}
      },
      "cell_type": "code",
      "source": [
        "# Make your google drive accessible to colab\n",
        "from google.colab import drive\n",
        "drive.mount('/gdrive')"
      ],
      "execution_count": 0,
      "outputs": []
    },
    {
      "metadata": {
        "id": "yeLisVhfz7_g",
        "colab_type": "text"
      },
      "cell_type": "markdown",
      "source": [
        "## The next cell installs all necessary dependencies\n",
        "\n"
      ]
    },
    {
      "metadata": {
        "colab_type": "code",
        "id": "8YBthUN7eg_9",
        "outputId": "81bfa491-2d28-483c-b6a0-c0d9eb251b64",
        "colab": {
          "base_uri": "https://localhost:8080/",
          "height": 428
        }
      },
      "cell_type": "code",
      "source": [
        "Path_to_UnEye_folder = '/gdrive/My Drive/uneye/' # You might need to change the path yourself\n",
        "\n",
        "# to do math operations\n",
        "import numpy as np\n",
        "import scipy.io as io\n",
        "\n",
        "# go to the uneye folder\n",
        "import os\n",
        "os.chdir(Path_to_UnEye_folder)\n",
        "\n",
        "# to do deep learning\n",
        "# http://pytorch.org/\n",
        "from os.path import exists\n",
        "from wheel.pep425tags import get_abbr_impl, get_impl_ver, get_abi_tag\n",
        "platform = '{}{}-{}'.format(get_abbr_impl(), get_impl_ver(), get_abi_tag())\n",
        "cuda_output = !ldconfig -p|grep cudart.so|sed -e 's/.*\\.\\([0-9]*\\)\\.\\([0-9]*\\)$/cu\\1\\2/'\n",
        "accelerator = cuda_output[0] if exists('/dev/nvidia0') else 'cpu'\n",
        "\n",
        "!pip install -q http://download.pytorch.org/whl/{accelerator}/torch-0.4.1-{platform}-linux_x86_64.whl torchvision\n",
        "\n",
        "# to read .mat files\n",
        "!pip install mat4py\n",
        "import mat4py\n",
        "# to do read .pkl files\n",
        "import pandas as pd\n",
        "\n",
        "# to do clustering\n",
        "!pip install hdbscan\n",
        "\n",
        "import uneye\n",
        "from detect_CS import *\n"
      ],
      "execution_count": 2,
      "outputs": [
        {
          "output_type": "stream",
          "text": [
            "\u001b[31m  HTTP error 403 while getting http://download.pytorch.org/whl/cu100/torch-0.4.1-cp36-cp36m-linux_x86_64.whl\u001b[0m\n",
            "\u001b[31m  Could not install requirement torch==0.4.1 from http://download.pytorch.org/whl/cu100/torch-0.4.1-cp36-cp36m-linux_x86_64.whl because of error 403 Client Error: Forbidden for url: http://download.pytorch.org/whl/cu100/torch-0.4.1-cp36-cp36m-linux_x86_64.whl\u001b[0m\n",
            "\u001b[31mCould not install requirement torch==0.4.1 from http://download.pytorch.org/whl/cu100/torch-0.4.1-cp36-cp36m-linux_x86_64.whl because of HTTP error 403 Client Error: Forbidden for url: http://download.pytorch.org/whl/cu100/torch-0.4.1-cp36-cp36m-linux_x86_64.whl for URL http://download.pytorch.org/whl/cu100/torch-0.4.1-cp36-cp36m-linux_x86_64.whl\u001b[0m\n",
            "Collecting mat4py\n",
            "  Downloading https://files.pythonhosted.org/packages/25/a2/ec3feb146f6af699d85cf35d719463f2e2fb0d55864dd6d1d48cf0c756cd/mat4py-0.4.2-py2.py3-none-any.whl\n",
            "Installing collected packages: mat4py\n",
            "Successfully installed mat4py-0.4.2\n",
            "Collecting hdbscan\n",
            "\u001b[?25l  Downloading https://files.pythonhosted.org/packages/22/8d/1fc4bfd17ae871441fd6440abc3da5fdecf34831aa711e3e52727ab00556/hdbscan-0.8.19.tar.gz (4.0MB)\n",
            "\u001b[K    100% |████████████████████████████████| 4.0MB 10.5MB/s \n",
            "\u001b[?25h  Installing build dependencies ... \u001b[?25ldone\n",
            "\u001b[?25h  Getting requirements to build wheel ... \u001b[?25ldone\n",
            "\u001b[?25h    Preparing wheel metadata ... \u001b[?25ldone\n",
            "\u001b[?25hRequirement already satisfied: cython>=0.27 in /usr/local/lib/python3.6/dist-packages (from hdbscan) (0.29.6)\n",
            "Requirement already satisfied: scikit-learn>=0.17 in /usr/local/lib/python3.6/dist-packages (from hdbscan) (0.20.3)\n",
            "Requirement already satisfied: scipy>=0.9 in /usr/local/lib/python3.6/dist-packages (from hdbscan) (1.1.0)\n",
            "Requirement already satisfied: numpy>=1.9 in /usr/local/lib/python3.6/dist-packages (from hdbscan) (1.14.6)\n",
            "Building wheels for collected packages: hdbscan\n",
            "  Building wheel for hdbscan (PEP 517) ... \u001b[?25ldone\n",
            "\u001b[?25h  Stored in directory: /root/.cache/pip/wheels/09/a5/c5/936c8483493258b818115eeb9289cb504e9fbbb577352713a4\n",
            "Successfully built hdbscan\n",
            "Installing collected packages: hdbscan\n",
            "Successfully installed hdbscan-0.8.19\n"
          ],
          "name": "stdout"
        }
      ]
    },
    {
      "metadata": {
        "id": "chSrPfHmvUDy",
        "colab_type": "text"
      },
      "cell_type": "markdown",
      "source": [
        "# The next cell detects complex spikes in your data\n",
        "## Change the variables of the next cell as described in the comments\n",
        "## Then run the cell"
      ]
    },
    {
      "metadata": {
        "id": "At_o-WPiL0x7",
        "colab_type": "code",
        "colab": {}
      },
      "cell_type": "code",
      "source": [
        "###########################\n",
        "# the file containing the electrophysiological data\n",
        "filename = 'my_folder/my_file_name' # path of the file your want to label\n",
        "                          # it can be a .mat file, a .pkl file or a .csv file\n",
        "                          # set to [] if you use .csv files\n",
        "field_LFP = 'my_field_name' # if in a .pkl file, the LFP data is in the key ['lfp'], then set: field_LFP = 'lfp'\n",
        "                            # if in a .mat file, the LFP data is in the variable lfp, then set: field_LFP = 'lfp'\n",
        "                            # in a .mat file the LFP data is in the structure Data.lfp, then set: field_LFP = ['Data','lfp']\n",
        "                            # with .csv files this is the path to the file containing LFP\n",
        "field_high_pass = 'my_field_name' # same comment as above\n",
        "###########################\n",
        "\n",
        "\n",
        "###########################\n",
        "# the name of the weights of the network\n",
        "weights_name = 'my_weight_name' # the weights are located in /training\n",
        "###########################\n",
        "\n",
        "\n",
        "###########################\n",
        "# sample frequency of your recording\n",
        "sampfreq = 25000 \n",
        "###########################\n",
        "\n",
        "\n",
        "###########################\n",
        "# size of the convolutional and maxpooling operations\n",
        "# !!! it has to be the same as for the training !!!\n",
        "ks = 9 # convolution kernel size \n",
        "mp = 7 # maxpooling size\n",
        "# the number of bins (nb) taken into account by the network is given by\n",
        "# nb = mp**2+mp**2*c+(mp*c)-mp+2*c-2 \n",
        "###########################\n",
        "\n",
        "\n",
        "\n",
        "#################################\n",
        "# here there is nothing to modify unless you know what you are doing\n",
        "LFP,High,_ = load_data(filename = filename,field_LFP = field_LFP,field_high_pass = field_high_pass)\n",
        "\n",
        "output = detect_CS(weights_name,\n",
        "                   LFP,\n",
        "                   High_passed,\n",
        "                   output_name = None,\n",
        "                   plot_only_good = True,\n",
        "                   sampling_frequency = 25000,\n",
        "                   ks=9,\n",
        "                   mp=7,\n",
        "                   realign = True,\n",
        "                   alignment_w = (-.5,2),\n",
        "                   cluster = True,\n",
        "                   cluster_w = (-.5,2),\n",
        "                   plot = False,\n",
        "                   plot_w= (-4,8),\n",
        "                   exlude_w = 3)"
      ],
      "execution_count": 0,
      "outputs": []
    }
  ]
}